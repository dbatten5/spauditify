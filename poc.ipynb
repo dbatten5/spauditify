{
 "cells": [
  {
   "cell_type": "code",
   "execution_count": 3,
   "id": "cbf23766-f5c9-4d4e-b43a-a1abb140b4dc",
   "metadata": {},
   "outputs": [],
   "source": [
    "import numpy as np\n",
    "import matplotlib.pyplot as plt\n",
    "import spotipy\n",
    "from spotipy.oauth2 import SpotifyOAuth"
   ]
  },
  {
   "cell_type": "code",
   "execution_count": 4,
   "id": "84e4858f-7f19-44c6-ace5-50b2d438bc67",
   "metadata": {},
   "outputs": [],
   "source": [
    "# the 4 downtempo playlist ids\n",
    "APRESLIST_ID = \"1Gbl0gYulJ5oXzCZWyR1Hr\"\n",
    "SERIOUSLY_ID = \"12b7lLOydJ1rzgcp2H0uye\"\n",
    "ZZZ_ID = \"0pWvAfI5sFdQ2DzaXXGLJ9\"\n",
    "SHEEP_ID = \"5OJyVfvGLNO3o8rj0cHdOC\""
   ]
  },
  {
   "cell_type": "markdown",
   "id": "6a841a8f-89b2-4b1b-8594-74f530f9e50c",
   "metadata": {},
   "source": [
    "We start by grabbing all the tracks for each playlist in batches of 100 and building up a feature matrix for each playlist using the audio features for each batch of tracks returned by the Spotify API. The relevant available features for a track are acousticness, danceability, energy, instrumentalness, key, liveness, loudness, mode, speechiness, tempo, and valence. It's unlikely all of these features will be helpful when building a model for each playlist but we'll go ahead and fetch all of them anyway."
   ]
  },
  {
   "cell_type": "code",
   "execution_count": 5,
   "id": "1154da99-24e8-489e-8643-7faedd7e8ab6",
   "metadata": {},
   "outputs": [],
   "source": [
    "# initialize the client with just the scope we need here (reading playlist data)\n",
    "scope = 'playlist-read-private'\n",
    "sp = spotipy.Spotify(auth_manager=SpotifyOAuth(scope=scope))"
   ]
  },
  {
   "cell_type": "code",
   "execution_count": 26,
   "id": "255bba9b-1552-4b62-86e5-47916ad89f51",
   "metadata": {},
   "outputs": [],
   "source": [
    "# grab all the tracks from the all playlists and return their audio features\n",
    "\n",
    "features = [\n",
    "    \"acousticness\",\n",
    "    \"danceability\",\n",
    "    \"energy\",\n",
    "    \"instrumentalness\",\n",
    "    \"key\",\n",
    "    \"liveness\",\n",
    "    \"loudness\",\n",
    "    \"mode\",\n",
    "    \"speechiness\",\n",
    "    \"tempo\",\n",
    "    \"valence\"\n",
    "]\n",
    "\n",
    "def parse_audio_features(audio_features_list: list[dict]) -> list[list[float]]:\n",
    "    audio_features: list[list[float]] = []\n",
    "    for af in audio_features_list:\n",
    "        feature_vec = [af[feat] for feat in features]\n",
    "        audio_features.append(feature_vec)\n",
    "    return audio_features\n",
    "\n",
    "def get_track_ids(tracks: dict) -> list[str]:\n",
    "    return [t[\"track\"][\"id\"] for t in tracks[\"items\"] if t[\"track\"][\"id\"]]\n",
    "\n",
    "def get_playlist_track_data(playlist_id: str) -> tuple[list,list]:\n",
    "    track_ids: list[str] = []\n",
    "    track_features: list[list[float]] = []\n",
    "    track_results = sp.playlist(playlist_id, fields=\"tracks,next\")\n",
    "    tracks = track_results[\"tracks\"]\n",
    "    batch_track_ids = get_track_ids(tracks)\n",
    "    track_ids.extend(batch_track_ids)\n",
    "    audio_feature_results = sp.audio_features(batch_track_ids)\n",
    "    batch_audio_features = parse_audio_features(audio_feature_results)\n",
    "    track_features.extend(batch_audio_features)\n",
    "    while tracks[\"next\"]:\n",
    "        tracks = sp.next(tracks)\n",
    "        batch_track_ids = get_track_ids(tracks)\n",
    "        track_ids.extend(batch_track_ids)\n",
    "        audio_feature_results = sp.audio_features(batch_track_ids)\n",
    "        batch_audio_features = parse_audio_features(audio_feature_results)\n",
    "        track_features.extend(batch_audio_features)\n",
    "    return track_ids, track_features\n",
    "\n",
    "\n",
    "apreslist_ids, apreslist_feats = get_playlist_track_data(APRESLIST_ID)\n",
    "seriously_ids, seriously_feats = get_playlist_track_data(SERIOUSLY_ID)\n",
    "zzz_ids, zzz_feats = get_playlist_track_data(ZZZ_ID)\n",
    "sheep_ids, sheep_feats = get_playlist_track_data(SHEEP_ID)\n",
    "\n",
    "apreslist_M = np.array(apreslist_feats)\n",
    "seriously_M = np.array(seriously_feats)\n",
    "zzz_M = np.array(zzz_feats)\n",
    "sheep_M = np.array(sheep_feats)"
   ]
  },
  {
   "cell_type": "code",
   "execution_count": 27,
   "id": "210a867b-7a76-4b70-9ecc-4db81b626f77",
   "metadata": {},
   "outputs": [],
   "source": [
    "# to save calling the api again, save the ids and feats to the disk\n",
    "import pickle\n",
    "with open('data/apreslist_ids.pkl','wb') as f:\n",
    "    pickle.dump(apreslist_ids, f)\n",
    "with open('data/seriously_ids.pkl','wb') as f:\n",
    "    pickle.dump(seriously_ids, f)\n",
    "with open('data/zzz_ids.pkl','wb') as f:\n",
    "    pickle.dump(zzz_ids, f)\n",
    "with open('data/sheep_ids.pkl','wb') as f:\n",
    "    pickle.dump(sheep_ids, f)\n",
    "\n",
    "np.save(\"data/apreslist_M.npy\", apreslist_M)\n",
    "np.save(\"data/seriously_M.npy\", seriously_M)\n",
    "np.save(\"data/zzz_M.npy\", zzz_M)\n",
    "np.save(\"data/sheep_M.npy\", sheep_M)"
   ]
  },
  {
   "cell_type": "code",
   "execution_count": null,
   "id": "8180449e-8867-4cfb-a8cc-d427206ba1a6",
   "metadata": {},
   "outputs": [],
   "source": [
    "with open('data/apreslist_ids.pkl','rb') as f:\n",
    "    apreslist_ids = pickle.load(f)\n",
    "with open('data/seriously_ids.pkl','rb') as f:\n",
    "    seriously_ids = pickle.load(f)\n",
    "with open('data/zzz_ids.pkl','rb') as f:\n",
    "    zzz_ids = pickle.load(f)\n",
    "with open('data/sheep_ids.pkl','rb') as f:\n",
    "    sheep_ids = pickle.load(f)\n",
    "\n",
    "apreslist_M = np.load(\"data/apreslist_M.npy\", allow_pickle=False)\n",
    "seriously_M = np.load(\"data/seriously_M.npy\", allow_pickle=False)\n",
    "zzz_M = np.load(\"data/zzz_M.npy\", allow_pickle=False)\n",
    "sheep_M = np.load(\"data/sheep_M.npy\", allow_pickle=False)"
   ]
  },
  {
   "cell_type": "markdown",
   "id": "f34441f9-4259-4782-954f-44fc6ad76d19",
   "metadata": {},
   "source": [
    "Now we can see if certain features of tracks in a playlist follows the distribution of a parametric model. The hypothesis is that certain features for all tracks in a playlist should follow a normal distribution and that the parameters of the distribution should be different for each playlist.\n",
    "\n",
    "We'll start by exploring a feature which should show some variance between playlists, the \"energy\" feature."
   ]
  },
  {
   "cell_type": "code",
   "execution_count": 29,
   "id": "69acc308-c203-4283-860f-0500b02e6e87",
   "metadata": {},
   "outputs": [
    {
     "name": "stderr",
     "output_type": "stream",
     "text": [
      "/var/folders/hr/_46cyfr51290z837bnrk9vjc0000gn/T/ipykernel_51623/3033574021.py:14: UserWarning: FigureCanvasAgg is non-interactive, and thus cannot be shown\n",
      "  fig.show()\n"
     ]
    },
    {
     "data": {
      "image/png": "[encoded data removed]",
      "text/plain": [
       "<Figure size 640x480 with 4 Axes>"
      ]
     },
     "metadata": {},
     "output_type": "display_data"
    }
   ],
   "source": [
    "energy_dim = features.index(\"energy\")\n",
    "\n",
    "n_bins = 20\n",
    "fig, axs = plt.subplots(2, 2, tight_layout=True, sharex=True)\n",
    "axs[0][0].hist(apreslist_M[:,energy_dim], bins=n_bins)\n",
    "axs[0][0].set_title(\"Apreslist\")\n",
    "axs[0][1].hist(seriously_M[:,energy_dim], bins=n_bins)\n",
    "axs[0][1].set_title(\"Seriously\")\n",
    "axs[1][0].hist(zzz_M[:,energy_dim], bins=n_bins)\n",
    "axs[1][0].set_title(\"zzz\")\n",
    "axs[1][1].hist(sheep_M[:,energy_dim], bins=n_bins)\n",
    "axs[1][1].set_title(\"Sheep\")\n",
    "fig.suptitle(\"Distribution of energy for different playlist\")\n",
    "fig.show()"
   ]
  },
  {
   "cell_type": "markdown",
   "id": "16aa5557-ef4c-4a6c-a828-483415538a52",
   "metadata": {},
   "source": [
    "From first glance it seems that the distribution of energy in both Apreslist and Seriously is Gaussian. It's also good to see that there is a clear distinction between where the center of the distribution lies for the two playlists, about 0.6 for Apreslist and 0.4 for Seriously. zzz seems like a bimodal with one peak around 0.1 and another around 0.3. For sheep the distribution is a bit different, maybe a log-normal or chi-squared. This may need some playing around with, fitting different models and selecting the one with the highest (log) likelihood. "
   ]
  },
  {
   "cell_type": "code",
   "execution_count": null,
   "id": "ee404103-517c-4881-9a35-7421aa901b65",
   "metadata": {},
   "outputs": [],
   "source": []
  }
 ],
 "metadata": {
  "kernelspec": {
   "display_name": "Python 3 (ipykernel)",
   "language": "python",
   "name": "python3"
  },
  "language_info": {
   "codemirror_mode": {
    "name": "ipython",
    "version": 3
   },
   "file_extension": ".py",
   "mimetype": "text/x-python",
   "name": "python",
   "nbconvert_exporter": "python",
   "pygments_lexer": "ipython3",
   "version": "3.11.5"
  }
 },
 "nbformat": 4,
 "nbformat_minor": 5
}
